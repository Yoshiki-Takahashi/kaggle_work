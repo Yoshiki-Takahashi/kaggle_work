{
 "cells": [
  {
   "cell_type": "code",
   "execution_count": 8,
   "metadata": {
    "collapsed": true
   },
   "outputs": [],
   "source": [
    "import pandas as pd\n",
    "import numpy as np\n",
    "import pyarrow.parquet as pq\n",
    "import sklearn\n",
    "import lightgbm as lgb\n",
    "import seaborn as sns\n",
    "import matplotlib.pyplot as plt\n",
    "from multiprocessing import Pool\n",
    "import os\n",
    "plt.rcParams[\"font.size\"] = 18\n",
    "\n",
    "base_dir = '/home/ytakahashi/project/kaggle/PLAsTiCC'"
   ]
  },
  {
   "cell_type": "markdown",
   "metadata": {},
   "source": [
    "## Read File"
   ]
  },
  {
   "cell_type": "code",
   "execution_count": 2,
   "metadata": {
    "collapsed": true
   },
   "outputs": [],
   "source": [
    "train_meta_df = pd.read_csv(os.path.join(base_dir, 'data/training_set_metadata.csv'))\n",
    "test_meta_df = pd.read_csv(os.path.join(base_dir, 'data/test_set_metadata.csv'))\n",
    "train_df = pq.read_table(os.path.join(base_dir, 'data/training_set.parquet')).to_pandas()\n",
    "test_df = pq.read_table(os.path.join(base_dir, 'data/test_set.parquet')).to_pandas()"
   ]
  },
  {
   "cell_type": "markdown",
   "metadata": {},
   "source": [
    "## Aggregation by ID and Passband"
   ]
  },
  {
   "cell_type": "code",
   "execution_count": 3,
   "metadata": {
    "collapsed": true
   },
   "outputs": [],
   "source": [
    "train_df['flux_ratio_sq'] = np.power(train_df['flux'] / train_df['flux_err'], 2.0)\n",
    "train_df['flux_by_flux_ratio_sq'] = train_df['flux'] * train_df['flux_ratio_sq']\n",
    "train_df['abs_flux'] = np.abs(train_df['flux'])\n",
    "\n",
    "aggs = {\n",
    "    'mjd': ['min', 'max', 'size'],\n",
    "    'flux': ['min', 'max', 'mean', 'median', 'std','skew'],\n",
    "    'flux_err': ['min', 'max', 'mean', 'median', 'std','skew'],\n",
    "    'detected': ['mean'],\n",
    "    'abs_flux': ['min', 'max', 'mean', 'median', 'std','skew'],\n",
    "    'flux_ratio_sq':['sum','skew'],\n",
    "    'flux_by_flux_ratio_sq':['sum','skew'],\n",
    "}"
   ]
  },
  {
   "cell_type": "code",
   "execution_count": 19,
   "metadata": {
    "collapsed": true
   },
   "outputs": [],
   "source": [
    "def split_aggs(aggs, max_num_split):\n",
    "    col_opp_list = [ (item[0], [opp]) for item in aggs.items() for opp in item[1] ]\n",
    "    num_split = min(len(col_opp_list), max_num_split)\n",
    "    split_size = len(col_opp_list) / num_split\n",
    "    splited = [col_opp_list[int(i*split_size) : int((i+1)*split_size)] for i in range(num_split)]\n",
    "    res = []\n",
    "    for partition in splited:\n",
    "        aggs4node = {}\n",
    "        for mini_tuple in partition:\n",
    "            if mini_tuple[0] in aggs4node.keys():\n",
    "                aggs4node[mini_tuple[0]].extend(mini_tuple[1])\n",
    "            else :\n",
    "                aggs4node[mini_tuple[0]] = mini_tuple[1]\n",
    "        res.append(aggs4node)\n",
    "    return res"
   ]
  },
  {
   "cell_type": "code",
   "execution_count": 20,
   "metadata": {
    "collapsed": true,
    "scrolled": true
   },
   "outputs": [],
   "source": [
    "def local_func(args):\n",
    "    data_path, aggs, save_path = args\n",
    "    train_df = pq.read_table(data_path).to_pandas()\n",
    "    agged_df = train_df.groupby(['object_id','passband']).agg(aggs)\n",
    "    agged_df = agged_df.unstack()\n",
    "    levels = agged_df.columns.levels\n",
    "    labels = agged_df.columns.labels\n",
    "    \n",
    "    # Set new column name\n",
    "    col_names, mode_names, passband_names = levels\n",
    "    col_ids, mode_ids, passband_ids = labels\n",
    "    agged_cols = ['{0},{1},{2}'.format(col_names[col_id], mode_names[mode_id], passband_names[passband_id]) for col_id, mode_id, passband_id in zip(col_ids, mode_ids, passband_ids)]\n",
    "    agged_df.columns = agged_cols\n",
    "    \n",
    "    agged_df.to_parquet(save_path, engine='pyarrow')\n",
    "    print('end agg: {0}'.format(str(aggs)))"
   ]
  },
  {
   "cell_type": "code",
   "execution_count": 10,
   "metadata": {
    "collapsed": true
   },
   "outputs": [],
   "source": [
    "def parallel_preprocess(dataframe, aggs, n_jobs, tmp_dir=os.path.join(base_dir, 'tmp')):\n",
    "    df_src_path = os.path.join(tmp_dir, 'df_src_tmp.parquet')\n",
    "    dataframe.to_parquet(df_src_path, engine='pyarrow')\n",
    "    with Pool(n_jobs) as p:\n",
    "        data_path_list = [df_src_path] * n_jobs\n",
    "        aggs_list = split_aggs(aggs, n_jobs)\n",
    "        job_id_list = range(n_jobs)\n",
    "        save_path_list = [os.path.join(tmp_dir, 'df_result_part{0}.parquet'.format(job_id)) for job_id in range(n_jobs)]\n",
    "        print()\n",
    "        p.map(local_func, zip(data_path_list, aggs_list, save_path_list))\n",
    "    return pd.concat([pd.read_parquet(path, engine='pyarrow') for path in save_path_list], axis=1)"
   ]
  },
  {
   "cell_type": "code",
   "execution_count": 11,
   "metadata": {},
   "outputs": [
    {
     "name": "stdout",
     "output_type": "stream",
     "text": [
      "CPU times: user 1.7 s, sys: 9.86 s, total: 11.6 s\n",
      "Wall time: 19.8 s\n"
     ]
    }
   ],
   "source": [
    "%%time\n",
    "train_agged_df = parallel_preprocess(train_df, aggs, 26)"
   ]
  },
  {
   "cell_type": "markdown",
   "metadata": {},
   "source": [
    "## Merge Metadata and Split Galactic"
   ]
  },
  {
   "cell_type": "code",
   "execution_count": 12,
   "metadata": {
    "collapsed": true,
    "scrolled": true
   },
   "outputs": [],
   "source": [
    "train_merged = pd.merge(train_agged_df, train_meta_df, on='object_id')\n",
    "train_galactic = train_merged[train_merged.hostgal_photoz == 0]\n",
    "train_extra = train_merged[~(train_merged.hostgal_photoz == 0)]"
   ]
  },
  {
   "cell_type": "code",
   "execution_count": 13,
   "metadata": {},
   "outputs": [
    {
     "name": "stderr",
     "output_type": "stream",
     "text": [
      "/home/ytakahashi/library/anaconda2/envs/kaggle/lib/python3.5/site-packages/pandas/core/frame.py:3787: SettingWithCopyWarning: \n",
      "A value is trying to be set on a copy of a slice from a DataFrame\n",
      "\n",
      "See the caveats in the documentation: http://pandas.pydata.org/pandas-docs/stable/indexing.html#indexing-view-versus-copy\n",
      "  downcast=downcast, **kwargs)\n"
     ]
    }
   ],
   "source": [
    "train_galactic.fillna(0, inplace=True)\n",
    "train_extra.fillna(0, inplace=True)"
   ]
  },
  {
   "cell_type": "markdown",
   "metadata": {},
   "source": [
    "## Train with LightGBM"
   ]
  },
  {
   "cell_type": "code",
   "execution_count": 14,
   "metadata": {
    "collapsed": true
   },
   "outputs": [],
   "source": [
    "galactic_targets = np.unique(train_galactic.target)\n",
    "extra_targets = np.unique(train_extra.target)"
   ]
  },
  {
   "cell_type": "code",
   "execution_count": 15,
   "metadata": {
    "collapsed": true
   },
   "outputs": [],
   "source": [
    "labels2weight = {x:1 for x in np.concatenate([galactic_targets,extra_targets])}\n",
    "labels2weight[64] = 2\n",
    "labels2weight[15] = 2\n",
    "\n",
    "params = {\n",
    "    \"num_leaves\" : [31],\n",
    "    \"max_depth\" : [-1, 5], # -1\n",
    "    \"learning_rate\" : [0.03,0.05,0.08], # 0.1\n",
    "    \"n_estimators\" : [100, 200, 400], # 100\n",
    "    \"min_child_weight\" : [0.001, 0.01], # 0.001\n",
    "    \"reg_lambda\" : [0.0, 0.01], # 0.0\n",
    "    \"verbosity\" : [-1],\n",
    "    \"n_jobs\" : [2]\n",
    "}"
   ]
  },
  {
   "cell_type": "code",
   "execution_count": 16,
   "metadata": {
    "collapsed": true
   },
   "outputs": [],
   "source": [
    "from sklearn.model_selection import GridSearchCV\n",
    "\n",
    "def lgbm_gridsearch_cv(train_data, target,params, labels2weight, grid_jobs):\n",
    "    \n",
    "    labels2y = dict(map(reversed, enumerate(np.unique(target))))\n",
    "    y2labels = dict(enumerate(np.unique(target)))\n",
    "    y = np.array(list(map(labels2y.get, target)))\n",
    "    label_weights = {key : labels2weight[value] for key,value in y2labels.items()}\n",
    "    \n",
    "    lgb_clf = lgb.LGBMClassifier(objective='multiclass', class_weight=label_weights)\n",
    "    grid_clf = GridSearchCV(lgb_clf, params, scoring='neg_log_loss', cv=5, n_jobs=grid_jobs, return_train_score=True)\n",
    "    return (grid_clf.fit(train_data, y), y2labels)\n"
   ]
  },
  {
   "cell_type": "markdown",
   "metadata": {},
   "source": [
    "### Parallelism configuration benchmarks\n",
    "- grid serial using cpu is 81.46618032455444 \n",
    "- grid serial using gpu is 238.99585008621216\n",
    "- lightgbm parallelism:4, grid parallelism :9 is 9.447643041610718\n",
    "- lightgbm using GPU, grid parallelism: 4 is error"
   ]
  },
  {
   "cell_type": "code",
   "execution_count": 17,
   "metadata": {},
   "outputs": [
    {
     "name": "stdout",
     "output_type": "stream",
     "text": [
      "CPU times: user 16.6 s, sys: 12.4 s, total: 29 s\n",
      "Wall time: 3min 58s\n"
     ]
    }
   ],
   "source": [
    "%%time\n",
    "galactic_cv_res, galactic_y2labels = lgbm_gridsearch_cv(train_galactic.drop('target',axis=1), \\\n",
    "                                        train_galactic.target, \\\n",
    "                                        params,  \\\n",
    "                                        labels2weight, \\\n",
    "                                        40)"
   ]
  },
  {
   "cell_type": "code",
   "execution_count": 18,
   "metadata": {},
   "outputs": [
    {
     "name": "stdout",
     "output_type": "stream",
     "text": [
      "CPU times: user 30.8 s, sys: 13.2 s, total: 44 s\n",
      "Wall time: 12min 20s\n"
     ]
    }
   ],
   "source": [
    "%%time\n",
    "extra_cv_res, extra_y2labels = lgbm_gridsearch_cv(train_extra.drop('target',axis=1), \\\n",
    "                                        train_extra.target, \\\n",
    "                                        params,  \\\n",
    "                                        labels2weight, \\\n",
    "                                        40)"
   ]
  },
  {
   "cell_type": "markdown",
   "metadata": {},
   "source": [
    "## Training Result and Prediction"
   ]
  },
  {
   "cell_type": "code",
   "execution_count": 21,
   "metadata": {},
   "outputs": [
    {
     "name": "stdout",
     "output_type": "stream",
     "text": [
      "Galactic best validation log_loss is 0.13750726604169883\n",
      "Extra best validation log_loss is 1.0748377889419733\n"
     ]
    }
   ],
   "source": [
    "print('Galactic best validation log_loss is {0}'.format(- galactic_cv_res.best_score_))\n",
    "print('Extra best validation log_loss is {0}'.format(- extra_cv_res.best_score_))"
   ]
  },
  {
   "cell_type": "code",
   "execution_count": 22,
   "metadata": {
    "collapsed": true
   },
   "outputs": [],
   "source": [
    "galactic_best_clf = galactic_cv_res.best_estimator_\n",
    "extra_best_clf = extra_cv_res.best_estimator_"
   ]
  },
  {
   "cell_type": "markdown",
   "metadata": {},
   "source": [
    "## Test Data Conversion"
   ]
  },
  {
   "cell_type": "markdown",
   "metadata": {},
   "source": [
    "## Aggregation by ID and Passband"
   ]
  },
  {
   "cell_type": "code",
   "execution_count": 23,
   "metadata": {
    "collapsed": true
   },
   "outputs": [],
   "source": [
    "test_df['flux_ratio_sq'] = np.power(test_df['flux'] / test_df['flux_err'], 2.0)\n",
    "test_df['flux_by_flux_ratio_sq'] = test_df['flux'] * test_df['flux_ratio_sq']\n",
    "test_df['abs_flux'] = np.abs(test_df['flux'])"
   ]
  },
  {
   "cell_type": "code",
   "execution_count": 24,
   "metadata": {},
   "outputs": [
    {
     "name": "stderr",
     "output_type": "stream",
     "text": [
      "Exception in thread Thread-56:\n",
      "Traceback (most recent call last):\n",
      "  File \"/home/ytakahashi/library/anaconda2/envs/kaggle/lib/python3.5/threading.py\", line 914, in _bootstrap_inner\n",
      "    self.run()\n",
      "  File \"/home/ytakahashi/library/anaconda2/envs/kaggle/lib/python3.5/threading.py\", line 862, in run\n",
      "    self._target(*self._args, **self._kwargs)\n",
      "  File \"/home/ytakahashi/library/anaconda2/envs/kaggle/lib/python3.5/multiprocessing/pool.py\", line 405, in _handle_workers\n",
      "    pool._maintain_pool()\n",
      "  File \"/home/ytakahashi/library/anaconda2/envs/kaggle/lib/python3.5/multiprocessing/pool.py\", line 246, in _maintain_pool\n",
      "    self._repopulate_pool()\n",
      "  File \"/home/ytakahashi/library/anaconda2/envs/kaggle/lib/python3.5/multiprocessing/pool.py\", line 239, in _repopulate_pool\n",
      "    w.start()\n",
      "  File \"/home/ytakahashi/library/anaconda2/envs/kaggle/lib/python3.5/multiprocessing/process.py\", line 105, in start\n",
      "    self._popen = self._Popen(self)\n",
      "  File \"/home/ytakahashi/library/anaconda2/envs/kaggle/lib/python3.5/multiprocessing/context.py\", line 267, in _Popen\n",
      "    return Popen(process_obj)\n",
      "  File \"/home/ytakahashi/library/anaconda2/envs/kaggle/lib/python3.5/multiprocessing/popen_fork.py\", line 20, in __init__\n",
      "    self._launch(process_obj)\n",
      "  File \"/home/ytakahashi/library/anaconda2/envs/kaggle/lib/python3.5/multiprocessing/popen_fork.py\", line 67, in _launch\n",
      "    self.pid = os.fork()\n",
      "OSError: [Errno 12] Cannot allocate memory\n",
      "\n"
     ]
    },
    {
     "name": "stdout",
     "output_type": "stream",
     "text": [
      "end agg: {'mjd': ['max']}\n",
      "end agg: {'abs_flux': ['min']}\n"
     ]
    },
    {
     "name": "stderr",
     "output_type": "stream",
     "text": [
      "Process ForkPoolWorker-144:\n",
      "Process ForkPoolWorker-151:\n",
      "Traceback (most recent call last):\n",
      "  File \"/home/ytakahashi/library/anaconda2/envs/kaggle/lib/python3.5/multiprocessing/process.py\", line 252, in _bootstrap\n",
      "    self.run()\n",
      "Process ForkPoolWorker-160:\n",
      "Process ForkPoolWorker-159:\n",
      "  File \"/home/ytakahashi/library/anaconda2/envs/kaggle/lib/python3.5/multiprocessing/process.py\", line 93, in run\n",
      "    self._target(*self._args, **self._kwargs)\n",
      "Process ForkPoolWorker-156:\n",
      "Process ForkPoolWorker-147:\n",
      "Process ForkPoolWorker-154:\n",
      "  File \"/home/ytakahashi/library/anaconda2/envs/kaggle/lib/python3.5/multiprocessing/pool.py\", line 108, in worker\n",
      "    task = get()\n",
      "Process ForkPoolWorker-143:\n",
      "Process ForkPoolWorker-140:\n",
      "Process ForkPoolWorker-152:\n",
      "Process ForkPoolWorker-138:\n",
      "Process ForkPoolWorker-145:\n"
     ]
    },
    {
     "ename": "KeyboardInterrupt",
     "evalue": "",
     "output_type": "error",
     "traceback": [
      "\u001b[0;31m---------------------------------------------------------------------------\u001b[0m",
      "\u001b[0;31mRemoteTraceback\u001b[0m                           Traceback (most recent call last)",
      "\u001b[0;31mRemoteTraceback\u001b[0m: \n\"\"\"\nTraceback (most recent call last):\n  File \"/home/ytakahashi/library/anaconda2/envs/kaggle/lib/python3.5/multiprocessing/pool.py\", line 119, in worker\n    result = (True, func(*args, **kwds))\n  File \"/home/ytakahashi/library/anaconda2/envs/kaggle/lib/python3.5/multiprocessing/pool.py\", line 44, in mapstar\n    return list(map(*args))\n  File \"<ipython-input-20-be3647e0b9cb>\", line 3, in local_func\n    train_df = pq.read_table(data_path).to_pandas()\n  File \"pyarrow/table.pxi\", line 1410, in pyarrow.lib.Table.to_pandas\n  File \"/home/ytakahashi/library/anaconda2/envs/kaggle/lib/python3.5/site-packages/pyarrow/pandas_compat.py\", line 578, in table_to_blockmanager\n    blocks = _table_to_blocks(options, block_table, memory_pool, categories)\n  File \"/home/ytakahashi/library/anaconda2/envs/kaggle/lib/python3.5/site-packages/pyarrow/pandas_compat.py\", line 743, in _table_to_blocks\n    categories)\n  File \"pyarrow/table.pxi\", line 1020, in pyarrow.lib.table_to_blocks\n  File \"pyarrow/error.pxi\", line 85, in pyarrow.lib.check_status\npyarrow.lib.ArrowMemoryError\n\"\"\"",
      "\nThe above exception was the direct cause of the following exception:\n",
      "\u001b[0;31mArrowMemoryError\u001b[0m                          Traceback (most recent call last)",
      "\u001b[0;32m<ipython-input-10-6781b8451553>\u001b[0m in \u001b[0;36mparallel_preprocess\u001b[0;34m(dataframe, aggs, n_jobs, tmp_dir)\u001b[0m\n\u001b[1;32m      8\u001b[0m         \u001b[0msave_path_list\u001b[0m \u001b[0;34m=\u001b[0m \u001b[0;34m[\u001b[0m\u001b[0mos\u001b[0m\u001b[0;34m.\u001b[0m\u001b[0mpath\u001b[0m\u001b[0;34m.\u001b[0m\u001b[0mjoin\u001b[0m\u001b[0;34m(\u001b[0m\u001b[0mtmp_dir\u001b[0m\u001b[0;34m,\u001b[0m \u001b[0;34m'df_result_part{0}.parquet'\u001b[0m\u001b[0;34m.\u001b[0m\u001b[0mformat\u001b[0m\u001b[0;34m(\u001b[0m\u001b[0mjob_id\u001b[0m\u001b[0;34m)\u001b[0m\u001b[0;34m)\u001b[0m \u001b[0;32mfor\u001b[0m \u001b[0mjob_id\u001b[0m \u001b[0;32min\u001b[0m \u001b[0mrange\u001b[0m\u001b[0;34m(\u001b[0m\u001b[0mn_jobs\u001b[0m\u001b[0;34m)\u001b[0m\u001b[0;34m]\u001b[0m\u001b[0;34m\u001b[0m\u001b[0m\n\u001b[0;32m----> 9\u001b[0;31m         \u001b[0mp\u001b[0m\u001b[0;34m.\u001b[0m\u001b[0mmap\u001b[0m\u001b[0;34m(\u001b[0m\u001b[0mlocal_func\u001b[0m\u001b[0;34m,\u001b[0m \u001b[0mzip\u001b[0m\u001b[0;34m(\u001b[0m\u001b[0mdata_path_list\u001b[0m\u001b[0;34m,\u001b[0m \u001b[0maggs_list\u001b[0m\u001b[0;34m,\u001b[0m \u001b[0msave_path_list\u001b[0m\u001b[0;34m)\u001b[0m\u001b[0;34m)\u001b[0m\u001b[0;34m\u001b[0m\u001b[0m\n\u001b[0m\u001b[1;32m     10\u001b[0m     \u001b[0;32mreturn\u001b[0m \u001b[0mpd\u001b[0m\u001b[0;34m.\u001b[0m\u001b[0mconcat\u001b[0m\u001b[0;34m(\u001b[0m\u001b[0;34m[\u001b[0m\u001b[0mpd\u001b[0m\u001b[0;34m.\u001b[0m\u001b[0mread_parquet\u001b[0m\u001b[0;34m(\u001b[0m\u001b[0mpath\u001b[0m\u001b[0;34m,\u001b[0m \u001b[0mengine\u001b[0m\u001b[0;34m=\u001b[0m\u001b[0;34m'pyarrow'\u001b[0m\u001b[0;34m)\u001b[0m \u001b[0;32mfor\u001b[0m \u001b[0mpath\u001b[0m \u001b[0;32min\u001b[0m \u001b[0msave_path_list\u001b[0m\u001b[0;34m]\u001b[0m\u001b[0;34m,\u001b[0m \u001b[0maxis\u001b[0m\u001b[0;34m=\u001b[0m\u001b[0;36m1\u001b[0m\u001b[0;34m)\u001b[0m\u001b[0;34m\u001b[0m\u001b[0m\n",
      "\u001b[0;32m~/library/anaconda2/envs/kaggle/lib/python3.5/multiprocessing/pool.py\u001b[0m in \u001b[0;36mmap\u001b[0;34m(self, func, iterable, chunksize)\u001b[0m\n\u001b[1;32m    265\u001b[0m         '''\n\u001b[0;32m--> 266\u001b[0;31m         \u001b[0;32mreturn\u001b[0m \u001b[0mself\u001b[0m\u001b[0;34m.\u001b[0m\u001b[0m_map_async\u001b[0m\u001b[0;34m(\u001b[0m\u001b[0mfunc\u001b[0m\u001b[0;34m,\u001b[0m \u001b[0miterable\u001b[0m\u001b[0;34m,\u001b[0m \u001b[0mmapstar\u001b[0m\u001b[0;34m,\u001b[0m \u001b[0mchunksize\u001b[0m\u001b[0;34m)\u001b[0m\u001b[0;34m.\u001b[0m\u001b[0mget\u001b[0m\u001b[0;34m(\u001b[0m\u001b[0;34m)\u001b[0m\u001b[0;34m\u001b[0m\u001b[0m\n\u001b[0m\u001b[1;32m    267\u001b[0m \u001b[0;34m\u001b[0m\u001b[0m\n",
      "\u001b[0;32m~/library/anaconda2/envs/kaggle/lib/python3.5/multiprocessing/pool.py\u001b[0m in \u001b[0;36mget\u001b[0;34m(self, timeout)\u001b[0m\n\u001b[1;32m    643\u001b[0m         \u001b[0;32melse\u001b[0m\u001b[0;34m:\u001b[0m\u001b[0;34m\u001b[0m\u001b[0m\n\u001b[0;32m--> 644\u001b[0;31m             \u001b[0;32mraise\u001b[0m \u001b[0mself\u001b[0m\u001b[0;34m.\u001b[0m\u001b[0m_value\u001b[0m\u001b[0;34m\u001b[0m\u001b[0m\n\u001b[0m\u001b[1;32m    645\u001b[0m \u001b[0;34m\u001b[0m\u001b[0m\n",
      "\u001b[0;31mArrowMemoryError\u001b[0m: ",
      "\nDuring handling of the above exception, another exception occurred:\n",
      "\u001b[0;31mKeyboardInterrupt\u001b[0m                         Traceback (most recent call last)",
      "\u001b[0;32m<timed exec>\u001b[0m in \u001b[0;36m<module>\u001b[0;34m()\u001b[0m\n",
      "\u001b[0;32m<ipython-input-10-6781b8451553>\u001b[0m in \u001b[0;36mparallel_preprocess\u001b[0;34m(dataframe, aggs, n_jobs, tmp_dir)\u001b[0m\n\u001b[1;32m      7\u001b[0m         \u001b[0mjob_id_list\u001b[0m \u001b[0;34m=\u001b[0m \u001b[0mrange\u001b[0m\u001b[0;34m(\u001b[0m\u001b[0mn_jobs\u001b[0m\u001b[0;34m)\u001b[0m\u001b[0;34m\u001b[0m\u001b[0m\n\u001b[1;32m      8\u001b[0m         \u001b[0msave_path_list\u001b[0m \u001b[0;34m=\u001b[0m \u001b[0;34m[\u001b[0m\u001b[0mos\u001b[0m\u001b[0;34m.\u001b[0m\u001b[0mpath\u001b[0m\u001b[0;34m.\u001b[0m\u001b[0mjoin\u001b[0m\u001b[0;34m(\u001b[0m\u001b[0mtmp_dir\u001b[0m\u001b[0;34m,\u001b[0m \u001b[0;34m'df_result_part{0}.parquet'\u001b[0m\u001b[0;34m.\u001b[0m\u001b[0mformat\u001b[0m\u001b[0;34m(\u001b[0m\u001b[0mjob_id\u001b[0m\u001b[0;34m)\u001b[0m\u001b[0;34m)\u001b[0m \u001b[0;32mfor\u001b[0m \u001b[0mjob_id\u001b[0m \u001b[0;32min\u001b[0m \u001b[0mrange\u001b[0m\u001b[0;34m(\u001b[0m\u001b[0mn_jobs\u001b[0m\u001b[0;34m)\u001b[0m\u001b[0;34m]\u001b[0m\u001b[0;34m\u001b[0m\u001b[0m\n\u001b[0;32m----> 9\u001b[0;31m         \u001b[0mp\u001b[0m\u001b[0;34m.\u001b[0m\u001b[0mmap\u001b[0m\u001b[0;34m(\u001b[0m\u001b[0mlocal_func\u001b[0m\u001b[0;34m,\u001b[0m \u001b[0mzip\u001b[0m\u001b[0;34m(\u001b[0m\u001b[0mdata_path_list\u001b[0m\u001b[0;34m,\u001b[0m \u001b[0maggs_list\u001b[0m\u001b[0;34m,\u001b[0m \u001b[0msave_path_list\u001b[0m\u001b[0;34m)\u001b[0m\u001b[0;34m)\u001b[0m\u001b[0;34m\u001b[0m\u001b[0m\n\u001b[0m\u001b[1;32m     10\u001b[0m     \u001b[0;32mreturn\u001b[0m \u001b[0mpd\u001b[0m\u001b[0;34m.\u001b[0m\u001b[0mconcat\u001b[0m\u001b[0;34m(\u001b[0m\u001b[0;34m[\u001b[0m\u001b[0mpd\u001b[0m\u001b[0;34m.\u001b[0m\u001b[0mread_parquet\u001b[0m\u001b[0;34m(\u001b[0m\u001b[0mpath\u001b[0m\u001b[0;34m,\u001b[0m \u001b[0mengine\u001b[0m\u001b[0;34m=\u001b[0m\u001b[0;34m'pyarrow'\u001b[0m\u001b[0;34m)\u001b[0m \u001b[0;32mfor\u001b[0m \u001b[0mpath\u001b[0m \u001b[0;32min\u001b[0m \u001b[0msave_path_list\u001b[0m\u001b[0;34m]\u001b[0m\u001b[0;34m,\u001b[0m \u001b[0maxis\u001b[0m\u001b[0;34m=\u001b[0m\u001b[0;36m1\u001b[0m\u001b[0;34m)\u001b[0m\u001b[0;34m\u001b[0m\u001b[0m\n",
      "\u001b[0;32m~/library/anaconda2/envs/kaggle/lib/python3.5/multiprocessing/pool.py\u001b[0m in \u001b[0;36m__exit__\u001b[0;34m(self, exc_type, exc_val, exc_tb)\u001b[0m\n\u001b[1;32m    609\u001b[0m \u001b[0;34m\u001b[0m\u001b[0m\n\u001b[1;32m    610\u001b[0m     \u001b[0;32mdef\u001b[0m \u001b[0m__exit__\u001b[0m\u001b[0;34m(\u001b[0m\u001b[0mself\u001b[0m\u001b[0;34m,\u001b[0m \u001b[0mexc_type\u001b[0m\u001b[0;34m,\u001b[0m \u001b[0mexc_val\u001b[0m\u001b[0;34m,\u001b[0m \u001b[0mexc_tb\u001b[0m\u001b[0;34m)\u001b[0m\u001b[0;34m:\u001b[0m\u001b[0;34m\u001b[0m\u001b[0m\n\u001b[0;32m--> 611\u001b[0;31m         \u001b[0mself\u001b[0m\u001b[0;34m.\u001b[0m\u001b[0mterminate\u001b[0m\u001b[0;34m(\u001b[0m\u001b[0;34m)\u001b[0m\u001b[0;34m\u001b[0m\u001b[0m\n\u001b[0m\u001b[1;32m    612\u001b[0m \u001b[0;34m\u001b[0m\u001b[0m\n\u001b[1;32m    613\u001b[0m \u001b[0;31m#\u001b[0m\u001b[0;34m\u001b[0m\u001b[0;34m\u001b[0m\u001b[0m\n",
      "\u001b[0;32m~/library/anaconda2/envs/kaggle/lib/python3.5/multiprocessing/pool.py\u001b[0m in \u001b[0;36mterminate\u001b[0;34m(self)\u001b[0m\n\u001b[1;32m    539\u001b[0m         \u001b[0mself\u001b[0m\u001b[0;34m.\u001b[0m\u001b[0m_state\u001b[0m \u001b[0;34m=\u001b[0m \u001b[0mTERMINATE\u001b[0m\u001b[0;34m\u001b[0m\u001b[0m\n\u001b[1;32m    540\u001b[0m         \u001b[0mself\u001b[0m\u001b[0;34m.\u001b[0m\u001b[0m_worker_handler\u001b[0m\u001b[0;34m.\u001b[0m\u001b[0m_state\u001b[0m \u001b[0;34m=\u001b[0m \u001b[0mTERMINATE\u001b[0m\u001b[0;34m\u001b[0m\u001b[0m\n\u001b[0;32m--> 541\u001b[0;31m         \u001b[0mself\u001b[0m\u001b[0;34m.\u001b[0m\u001b[0m_terminate\u001b[0m\u001b[0;34m(\u001b[0m\u001b[0;34m)\u001b[0m\u001b[0;34m\u001b[0m\u001b[0m\n\u001b[0m\u001b[1;32m    542\u001b[0m \u001b[0;34m\u001b[0m\u001b[0m\n\u001b[1;32m    543\u001b[0m     \u001b[0;32mdef\u001b[0m \u001b[0mjoin\u001b[0m\u001b[0;34m(\u001b[0m\u001b[0mself\u001b[0m\u001b[0;34m)\u001b[0m\u001b[0;34m:\u001b[0m\u001b[0;34m\u001b[0m\u001b[0m\n",
      "\u001b[0;32m~/library/anaconda2/envs/kaggle/lib/python3.5/multiprocessing/util.py\u001b[0m in \u001b[0;36m__call__\u001b[0;34m(self, wr, _finalizer_registry, sub_debug, getpid)\u001b[0m\n\u001b[1;32m    184\u001b[0m                 sub_debug('finalizer calling %s with args %s and kwargs %s',\n\u001b[1;32m    185\u001b[0m                           self._callback, self._args, self._kwargs)\n\u001b[0;32m--> 186\u001b[0;31m                 \u001b[0mres\u001b[0m \u001b[0;34m=\u001b[0m \u001b[0mself\u001b[0m\u001b[0;34m.\u001b[0m\u001b[0m_callback\u001b[0m\u001b[0;34m(\u001b[0m\u001b[0;34m*\u001b[0m\u001b[0mself\u001b[0m\u001b[0;34m.\u001b[0m\u001b[0m_args\u001b[0m\u001b[0;34m,\u001b[0m \u001b[0;34m**\u001b[0m\u001b[0mself\u001b[0m\u001b[0;34m.\u001b[0m\u001b[0m_kwargs\u001b[0m\u001b[0;34m)\u001b[0m\u001b[0;34m\u001b[0m\u001b[0m\n\u001b[0m\u001b[1;32m    187\u001b[0m             \u001b[0mself\u001b[0m\u001b[0;34m.\u001b[0m\u001b[0m_weakref\u001b[0m \u001b[0;34m=\u001b[0m \u001b[0mself\u001b[0m\u001b[0;34m.\u001b[0m\u001b[0m_callback\u001b[0m \u001b[0;34m=\u001b[0m \u001b[0mself\u001b[0m\u001b[0;34m.\u001b[0m\u001b[0m_args\u001b[0m \u001b[0;34m=\u001b[0m\u001b[0;31m \u001b[0m\u001b[0;31m\\\u001b[0m\u001b[0;34m\u001b[0m\u001b[0m\n\u001b[1;32m    188\u001b[0m                             \u001b[0mself\u001b[0m\u001b[0;34m.\u001b[0m\u001b[0m_kwargs\u001b[0m \u001b[0;34m=\u001b[0m \u001b[0mself\u001b[0m\u001b[0;34m.\u001b[0m\u001b[0m_key\u001b[0m \u001b[0;34m=\u001b[0m \u001b[0;32mNone\u001b[0m\u001b[0;34m\u001b[0m\u001b[0m\n",
      "\u001b[0;32m~/library/anaconda2/envs/kaggle/lib/python3.5/multiprocessing/pool.py\u001b[0m in \u001b[0;36m_terminate_pool\u001b[0;34m(cls, taskqueue, inqueue, outqueue, pool, worker_handler, task_handler, result_handler, cache)\u001b[0m\n\u001b[1;32m    569\u001b[0m \u001b[0;34m\u001b[0m\u001b[0m\n\u001b[1;32m    570\u001b[0m         \u001b[0mutil\u001b[0m\u001b[0;34m.\u001b[0m\u001b[0mdebug\u001b[0m\u001b[0;34m(\u001b[0m\u001b[0;34m'helping task handler/workers to finish'\u001b[0m\u001b[0;34m)\u001b[0m\u001b[0;34m\u001b[0m\u001b[0m\n\u001b[0;32m--> 571\u001b[0;31m         \u001b[0mcls\u001b[0m\u001b[0;34m.\u001b[0m\u001b[0m_help_stuff_finish\u001b[0m\u001b[0;34m(\u001b[0m\u001b[0minqueue\u001b[0m\u001b[0;34m,\u001b[0m \u001b[0mtask_handler\u001b[0m\u001b[0;34m,\u001b[0m \u001b[0mlen\u001b[0m\u001b[0;34m(\u001b[0m\u001b[0mpool\u001b[0m\u001b[0;34m)\u001b[0m\u001b[0;34m)\u001b[0m\u001b[0;34m\u001b[0m\u001b[0m\n\u001b[0m\u001b[1;32m    572\u001b[0m \u001b[0;34m\u001b[0m\u001b[0m\n\u001b[1;32m    573\u001b[0m         \u001b[0;32massert\u001b[0m \u001b[0mresult_handler\u001b[0m\u001b[0;34m.\u001b[0m\u001b[0mis_alive\u001b[0m\u001b[0;34m(\u001b[0m\u001b[0;34m)\u001b[0m \u001b[0;32mor\u001b[0m \u001b[0mlen\u001b[0m\u001b[0;34m(\u001b[0m\u001b[0mcache\u001b[0m\u001b[0;34m)\u001b[0m \u001b[0;34m==\u001b[0m \u001b[0;36m0\u001b[0m\u001b[0;34m\u001b[0m\u001b[0m\n",
      "\u001b[0;32m~/library/anaconda2/envs/kaggle/lib/python3.5/multiprocessing/pool.py\u001b[0m in \u001b[0;36m_help_stuff_finish\u001b[0;34m(inqueue, task_handler, size)\u001b[0m\n\u001b[1;32m    554\u001b[0m         \u001b[0;31m# task_handler may be blocked trying to put items on inqueue\u001b[0m\u001b[0;34m\u001b[0m\u001b[0;34m\u001b[0m\u001b[0m\n\u001b[1;32m    555\u001b[0m         \u001b[0mutil\u001b[0m\u001b[0;34m.\u001b[0m\u001b[0mdebug\u001b[0m\u001b[0;34m(\u001b[0m\u001b[0;34m'removing tasks from inqueue until task handler finished'\u001b[0m\u001b[0;34m)\u001b[0m\u001b[0;34m\u001b[0m\u001b[0m\n\u001b[0;32m--> 556\u001b[0;31m         \u001b[0minqueue\u001b[0m\u001b[0;34m.\u001b[0m\u001b[0m_rlock\u001b[0m\u001b[0;34m.\u001b[0m\u001b[0macquire\u001b[0m\u001b[0;34m(\u001b[0m\u001b[0;34m)\u001b[0m\u001b[0;34m\u001b[0m\u001b[0m\n\u001b[0m\u001b[1;32m    557\u001b[0m         \u001b[0;32mwhile\u001b[0m \u001b[0mtask_handler\u001b[0m\u001b[0;34m.\u001b[0m\u001b[0mis_alive\u001b[0m\u001b[0;34m(\u001b[0m\u001b[0;34m)\u001b[0m \u001b[0;32mand\u001b[0m \u001b[0minqueue\u001b[0m\u001b[0;34m.\u001b[0m\u001b[0m_reader\u001b[0m\u001b[0;34m.\u001b[0m\u001b[0mpoll\u001b[0m\u001b[0;34m(\u001b[0m\u001b[0;34m)\u001b[0m\u001b[0;34m:\u001b[0m\u001b[0;34m\u001b[0m\u001b[0m\n\u001b[1;32m    558\u001b[0m             \u001b[0minqueue\u001b[0m\u001b[0;34m.\u001b[0m\u001b[0m_reader\u001b[0m\u001b[0;34m.\u001b[0m\u001b[0mrecv\u001b[0m\u001b[0;34m(\u001b[0m\u001b[0;34m)\u001b[0m\u001b[0;34m\u001b[0m\u001b[0m\n",
      "\u001b[0;31mKeyboardInterrupt\u001b[0m: "
     ]
    },
    {
     "name": "stderr",
     "output_type": "stream",
     "text": [
      "Process ForkPoolWorker-139:\n",
      "  File \"/home/ytakahashi/library/anaconda2/envs/kaggle/lib/python3.5/multiprocessing/queues.py\", line 334, in get\n",
      "    with self._rlock:\n",
      "  File \"/home/ytakahashi/library/anaconda2/envs/kaggle/lib/python3.5/multiprocessing/synchronize.py\", line 96, in __enter__\n",
      "    return self._semlock.__enter__()\n",
      "Process ForkPoolWorker-142:\n",
      "KeyboardInterrupt\n",
      "Traceback (most recent call last):\n",
      "Traceback (most recent call last):\n",
      "Traceback (most recent call last):\n",
      "Traceback (most recent call last):\n",
      "Traceback (most recent call last):\n",
      "Traceback (most recent call last):\n",
      "Traceback (most recent call last):\n",
      "Traceback (most recent call last):\n",
      "Traceback (most recent call last):\n",
      "Traceback (most recent call last):\n",
      "  File \"/home/ytakahashi/library/anaconda2/envs/kaggle/lib/python3.5/multiprocessing/process.py\", line 252, in _bootstrap\n",
      "    self.run()\n",
      "  File \"/home/ytakahashi/library/anaconda2/envs/kaggle/lib/python3.5/multiprocessing/process.py\", line 252, in _bootstrap\n",
      "    self.run()\n",
      "  File \"/home/ytakahashi/library/anaconda2/envs/kaggle/lib/python3.5/multiprocessing/process.py\", line 252, in _bootstrap\n",
      "    self.run()\n",
      "  File \"/home/ytakahashi/library/anaconda2/envs/kaggle/lib/python3.5/multiprocessing/process.py\", line 252, in _bootstrap\n",
      "    self.run()\n",
      "  File \"/home/ytakahashi/library/anaconda2/envs/kaggle/lib/python3.5/multiprocessing/process.py\", line 252, in _bootstrap\n",
      "    self.run()\n",
      "  File \"/home/ytakahashi/library/anaconda2/envs/kaggle/lib/python3.5/multiprocessing/process.py\", line 252, in _bootstrap\n",
      "    self.run()\n",
      "  File \"/home/ytakahashi/library/anaconda2/envs/kaggle/lib/python3.5/multiprocessing/process.py\", line 252, in _bootstrap\n",
      "    self.run()\n",
      "Traceback (most recent call last):\n",
      "  File \"/home/ytakahashi/library/anaconda2/envs/kaggle/lib/python3.5/multiprocessing/process.py\", line 252, in _bootstrap\n",
      "    self.run()\n",
      "  File \"/home/ytakahashi/library/anaconda2/envs/kaggle/lib/python3.5/multiprocessing/process.py\", line 252, in _bootstrap\n",
      "    self.run()\n",
      "  File \"/home/ytakahashi/library/anaconda2/envs/kaggle/lib/python3.5/multiprocessing/process.py\", line 252, in _bootstrap\n",
      "    self.run()\n",
      "Traceback (most recent call last):\n",
      "  File \"/home/ytakahashi/library/anaconda2/envs/kaggle/lib/python3.5/multiprocessing/process.py\", line 93, in run\n",
      "    self._target(*self._args, **self._kwargs)\n",
      "  File \"/home/ytakahashi/library/anaconda2/envs/kaggle/lib/python3.5/multiprocessing/process.py\", line 93, in run\n",
      "    self._target(*self._args, **self._kwargs)\n",
      "  File \"/home/ytakahashi/library/anaconda2/envs/kaggle/lib/python3.5/multiprocessing/process.py\", line 93, in run\n",
      "    self._target(*self._args, **self._kwargs)\n",
      "  File \"/home/ytakahashi/library/anaconda2/envs/kaggle/lib/python3.5/multiprocessing/process.py\", line 93, in run\n",
      "    self._target(*self._args, **self._kwargs)\n",
      "  File \"/home/ytakahashi/library/anaconda2/envs/kaggle/lib/python3.5/multiprocessing/process.py\", line 93, in run\n",
      "    self._target(*self._args, **self._kwargs)\n",
      "  File \"/home/ytakahashi/library/anaconda2/envs/kaggle/lib/python3.5/multiprocessing/process.py\", line 93, in run\n",
      "    self._target(*self._args, **self._kwargs)\n",
      "  File \"/home/ytakahashi/library/anaconda2/envs/kaggle/lib/python3.5/multiprocessing/process.py\", line 93, in run\n",
      "    self._target(*self._args, **self._kwargs)\n",
      "  File \"/home/ytakahashi/library/anaconda2/envs/kaggle/lib/python3.5/multiprocessing/process.py\", line 252, in _bootstrap\n",
      "    self.run()\n",
      "  File \"/home/ytakahashi/library/anaconda2/envs/kaggle/lib/python3.5/multiprocessing/process.py\", line 93, in run\n",
      "    self._target(*self._args, **self._kwargs)\n",
      "  File \"/home/ytakahashi/library/anaconda2/envs/kaggle/lib/python3.5/multiprocessing/process.py\", line 93, in run\n",
      "    self._target(*self._args, **self._kwargs)\n",
      "  File \"/home/ytakahashi/library/anaconda2/envs/kaggle/lib/python3.5/multiprocessing/process.py\", line 93, in run\n",
      "    self._target(*self._args, **self._kwargs)\n",
      "  File \"/home/ytakahashi/library/anaconda2/envs/kaggle/lib/python3.5/multiprocessing/process.py\", line 252, in _bootstrap\n",
      "    self.run()\n",
      "  File \"/home/ytakahashi/library/anaconda2/envs/kaggle/lib/python3.5/multiprocessing/pool.py\", line 108, in worker\n",
      "    task = get()\n",
      "  File \"/home/ytakahashi/library/anaconda2/envs/kaggle/lib/python3.5/multiprocessing/pool.py\", line 108, in worker\n",
      "    task = get()\n",
      "  File \"/home/ytakahashi/library/anaconda2/envs/kaggle/lib/python3.5/multiprocessing/pool.py\", line 108, in worker\n",
      "    task = get()\n",
      "  File \"/home/ytakahashi/library/anaconda2/envs/kaggle/lib/python3.5/multiprocessing/pool.py\", line 108, in worker\n",
      "    task = get()\n",
      "  File \"/home/ytakahashi/library/anaconda2/envs/kaggle/lib/python3.5/multiprocessing/pool.py\", line 108, in worker\n",
      "    task = get()\n",
      "  File \"/home/ytakahashi/library/anaconda2/envs/kaggle/lib/python3.5/multiprocessing/pool.py\", line 108, in worker\n",
      "    task = get()\n",
      "  File \"/home/ytakahashi/library/anaconda2/envs/kaggle/lib/python3.5/multiprocessing/pool.py\", line 108, in worker\n",
      "    task = get()\n",
      "  File \"/home/ytakahashi/library/anaconda2/envs/kaggle/lib/python3.5/multiprocessing/process.py\", line 93, in run\n",
      "    self._target(*self._args, **self._kwargs)\n",
      "  File \"/home/ytakahashi/library/anaconda2/envs/kaggle/lib/python3.5/multiprocessing/pool.py\", line 108, in worker\n",
      "    task = get()\n",
      "  File \"/home/ytakahashi/library/anaconda2/envs/kaggle/lib/python3.5/multiprocessing/pool.py\", line 108, in worker\n",
      "    task = get()\n",
      "  File \"/home/ytakahashi/library/anaconda2/envs/kaggle/lib/python3.5/multiprocessing/pool.py\", line 108, in worker\n",
      "    task = get()\n",
      "  File \"/home/ytakahashi/library/anaconda2/envs/kaggle/lib/python3.5/multiprocessing/process.py\", line 93, in run\n",
      "    self._target(*self._args, **self._kwargs)\n",
      "  File \"/home/ytakahashi/library/anaconda2/envs/kaggle/lib/python3.5/multiprocessing/queues.py\", line 334, in get\n",
      "    with self._rlock:\n",
      "  File \"/home/ytakahashi/library/anaconda2/envs/kaggle/lib/python3.5/multiprocessing/queues.py\", line 334, in get\n",
      "    with self._rlock:\n",
      "  File \"/home/ytakahashi/library/anaconda2/envs/kaggle/lib/python3.5/multiprocessing/queues.py\", line 334, in get\n",
      "    with self._rlock:\n",
      "  File \"/home/ytakahashi/library/anaconda2/envs/kaggle/lib/python3.5/multiprocessing/queues.py\", line 334, in get\n",
      "    with self._rlock:\n",
      "  File \"/home/ytakahashi/library/anaconda2/envs/kaggle/lib/python3.5/multiprocessing/queues.py\", line 334, in get\n",
      "    with self._rlock:\n",
      "  File \"/home/ytakahashi/library/anaconda2/envs/kaggle/lib/python3.5/multiprocessing/queues.py\", line 334, in get\n",
      "    with self._rlock:\n",
      "  File \"/home/ytakahashi/library/anaconda2/envs/kaggle/lib/python3.5/multiprocessing/queues.py\", line 334, in get\n",
      "    with self._rlock:\n",
      "  File \"/home/ytakahashi/library/anaconda2/envs/kaggle/lib/python3.5/multiprocessing/pool.py\", line 108, in worker\n",
      "    task = get()\n",
      "  File \"/home/ytakahashi/library/anaconda2/envs/kaggle/lib/python3.5/multiprocessing/queues.py\", line 334, in get\n",
      "    with self._rlock:\n",
      "  File \"/home/ytakahashi/library/anaconda2/envs/kaggle/lib/python3.5/multiprocessing/queues.py\", line 334, in get\n",
      "    with self._rlock:\n",
      "  File \"/home/ytakahashi/library/anaconda2/envs/kaggle/lib/python3.5/multiprocessing/queues.py\", line 334, in get\n",
      "    with self._rlock:\n",
      "  File \"/home/ytakahashi/library/anaconda2/envs/kaggle/lib/python3.5/multiprocessing/pool.py\", line 108, in worker\n",
      "    task = get()\n",
      "  File \"/home/ytakahashi/library/anaconda2/envs/kaggle/lib/python3.5/multiprocessing/synchronize.py\", line 96, in __enter__\n",
      "    return self._semlock.__enter__()\n",
      "  File \"/home/ytakahashi/library/anaconda2/envs/kaggle/lib/python3.5/multiprocessing/synchronize.py\", line 96, in __enter__\n",
      "    return self._semlock.__enter__()\n",
      "  File \"/home/ytakahashi/library/anaconda2/envs/kaggle/lib/python3.5/multiprocessing/synchronize.py\", line 96, in __enter__\n",
      "    return self._semlock.__enter__()\n",
      "  File \"/home/ytakahashi/library/anaconda2/envs/kaggle/lib/python3.5/multiprocessing/synchronize.py\", line 96, in __enter__\n",
      "    return self._semlock.__enter__()\n",
      "  File \"/home/ytakahashi/library/anaconda2/envs/kaggle/lib/python3.5/multiprocessing/synchronize.py\", line 96, in __enter__\n",
      "    return self._semlock.__enter__()\n",
      "  File \"/home/ytakahashi/library/anaconda2/envs/kaggle/lib/python3.5/multiprocessing/synchronize.py\", line 96, in __enter__\n",
      "    return self._semlock.__enter__()\n"
     ]
    },
    {
     "name": "stderr",
     "output_type": "stream",
     "text": [
      "  File \"/home/ytakahashi/library/anaconda2/envs/kaggle/lib/python3.5/multiprocessing/synchronize.py\", line 96, in __enter__\n",
      "    return self._semlock.__enter__()\n",
      "  File \"/home/ytakahashi/library/anaconda2/envs/kaggle/lib/python3.5/multiprocessing/queues.py\", line 335, in get\n",
      "    res = self._reader.recv_bytes()\n",
      "  File \"/home/ytakahashi/library/anaconda2/envs/kaggle/lib/python3.5/multiprocessing/synchronize.py\", line 96, in __enter__\n",
      "    return self._semlock.__enter__()\n",
      "  File \"/home/ytakahashi/library/anaconda2/envs/kaggle/lib/python3.5/multiprocessing/synchronize.py\", line 96, in __enter__\n",
      "    return self._semlock.__enter__()\n",
      "  File \"/home/ytakahashi/library/anaconda2/envs/kaggle/lib/python3.5/multiprocessing/synchronize.py\", line 96, in __enter__\n",
      "    return self._semlock.__enter__()\n",
      "  File \"/home/ytakahashi/library/anaconda2/envs/kaggle/lib/python3.5/multiprocessing/queues.py\", line 334, in get\n",
      "    with self._rlock:\n",
      "KeyboardInterrupt\n",
      "KeyboardInterrupt\n",
      "KeyboardInterrupt\n",
      "KeyboardInterrupt\n",
      "KeyboardInterrupt\n",
      "KeyboardInterrupt\n",
      "KeyboardInterrupt\n",
      "  File \"/home/ytakahashi/library/anaconda2/envs/kaggle/lib/python3.5/multiprocessing/connection.py\", line 216, in recv_bytes\n",
      "    buf = self._recv_bytes(maxlength)\n",
      "KeyboardInterrupt\n",
      "KeyboardInterrupt\n",
      "  File \"/home/ytakahashi/library/anaconda2/envs/kaggle/lib/python3.5/multiprocessing/synchronize.py\", line 96, in __enter__\n",
      "    return self._semlock.__enter__()\n",
      "KeyboardInterrupt\n",
      "KeyboardInterrupt\n",
      "  File \"/home/ytakahashi/library/anaconda2/envs/kaggle/lib/python3.5/multiprocessing/connection.py\", line 407, in _recv_bytes\n",
      "    buf = self._recv(4)\n",
      "  File \"/home/ytakahashi/library/anaconda2/envs/kaggle/lib/python3.5/multiprocessing/connection.py\", line 379, in _recv\n",
      "    chunk = read(handle, remaining)\n",
      "KeyboardInterrupt\n",
      "Traceback (most recent call last):\n",
      "  File \"/home/ytakahashi/library/anaconda2/envs/kaggle/lib/python3.5/multiprocessing/process.py\", line 252, in _bootstrap\n",
      "    self.run()\n",
      "  File \"/home/ytakahashi/library/anaconda2/envs/kaggle/lib/python3.5/multiprocessing/process.py\", line 93, in run\n",
      "    self._target(*self._args, **self._kwargs)\n",
      "  File \"/home/ytakahashi/library/anaconda2/envs/kaggle/lib/python3.5/multiprocessing/pool.py\", line 108, in worker\n",
      "    task = get()\n",
      "  File \"/home/ytakahashi/library/anaconda2/envs/kaggle/lib/python3.5/multiprocessing/queues.py\", line 334, in get\n",
      "    with self._rlock:\n",
      "  File \"/home/ytakahashi/library/anaconda2/envs/kaggle/lib/python3.5/multiprocessing/synchronize.py\", line 96, in __enter__\n",
      "    return self._semlock.__enter__()\n",
      "KeyboardInterrupt\n"
     ]
    }
   ],
   "source": [
    "%%time\n",
    "test_agged_df = parallel_preprocess(test_df, aggs, 26)"
   ]
  },
  {
   "cell_type": "code",
   "execution_count": 36,
   "metadata": {},
   "outputs": [],
   "source": [
    "pat = test_df.loc[:,['object_id','passband','flux']]"
   ]
  },
  {
   "cell_type": "code",
   "execution_count": null,
   "metadata": {},
   "outputs": [],
   "source": [
    "%time pat.groupby(['object_id','passband']).skew()"
   ]
  },
  {
   "cell_type": "markdown",
   "metadata": {},
   "source": [
    "## Merge Metadata and Split Galactic"
   ]
  },
  {
   "cell_type": "code",
   "execution_count": null,
   "metadata": {
    "collapsed": true,
    "scrolled": true
   },
   "outputs": [],
   "source": [
    "test_merged = pd.merge(test_agged_df, test_meta_df, on='object_id')\n",
    "test_galactic = test_merged[test_merged.hostgal_photoz == 0]\n",
    "test_extra = test_merged[~(test_merged.hostgal_photoz == 0)]"
   ]
  },
  {
   "cell_type": "code",
   "execution_count": null,
   "metadata": {
    "collapsed": true
   },
   "outputs": [],
   "source": [
    "test_galactic.fillna(0, inplace=True)\n",
    "test_extra.fillna(0, inplace=True)"
   ]
  },
  {
   "cell_type": "code",
   "execution_count": null,
   "metadata": {
    "collapsed": true
   },
   "outputs": [],
   "source": [
    "galactic_pred_df = pd.DataFrame(galactic_best_clf.predict(test_galactic, raw_score=True))\n",
    "galactic_pred_df.columns = ['class_{0}'.format(galactic_y2labels[i]) for i in galactic_pred_df.columns]\n",
    "\n",
    "extra_pred_df = pd.DataFrame(extra_best_clf.predict(test_extra, raw_score=True))\n",
    "extra_pred_df.columns = ['class_{0}'.format(extra_y2labels[i]) for i in extra_pred_df.columns]"
   ]
  },
  {
   "cell_type": "markdown",
   "metadata": {},
   "source": [
    "## Save or Load"
   ]
  },
  {
   "cell_type": "code",
   "execution_count": null,
   "metadata": {
    "collapsed": true
   },
   "outputs": [],
   "source": [
    "'''\n",
    "galactic_best_clf.booster_.save_model(os.path.join(base_dir, 'result/galactic_model'))\n",
    "extra_best_clf.booster.save_model(os.path.join(base_dir, 'result/extra_model'))\n",
    "'''"
   ]
  },
  {
   "cell_type": "code",
   "execution_count": null,
   "metadata": {
    "collapsed": true
   },
   "outputs": [],
   "source": [
    "\n",
    "galactic_model = lgb.Booster(model_file=os.path.join(base_dir, 'result/galactic_model'))\n",
    "galactic_pred_label = galactic_model.predict( test_galactic.loc[:,galactic_features], raw_score=True)\n",
    "galactic_pred_df = pd.DataFrame({'class_{0}'.format(c): galactic_pred_label[:, i] for i,c in enumerate(np.unique(galactic_targets))})\n",
    "extra_model = lgb.Booster(model_file=os.path.join(base_dir, 'result/extra_model'))\n",
    "extra_pred_label = extra_model.predict( test_extra.loc[:,extra_features], raw_score=True)\n",
    "extra_pred_df = pd.DataFrame({'class_{0}'.format(c): extra_pred_label[:, i] for i,c in enumerate(np.unique(extra_targets))})\n"
   ]
  },
  {
   "cell_type": "markdown",
   "metadata": {},
   "source": [
    "## Feature Importance"
   ]
  },
  {
   "cell_type": "code",
   "execution_count": 17,
   "metadata": {
    "collapsed": true
   },
   "outputs": [],
   "source": [
    "features = train_merged.columns.values[~(train_merged.columns.values == 'target')]\n",
    "galactic_importance = pd.DataFrame({'features':features,\n",
    "                                    'importance':galactic_best_clf.feature_importances_})\n",
    "extra_importance = pd.DataFrame({'features':features,\n",
    "                                    'importance':extra_best_clf.feature_importances_})"
   ]
  },
  {
   "cell_type": "code",
   "execution_count": 25,
   "metadata": {
    "scrolled": true
   },
   "outputs": [
    {
     "data": {
      "text/plain": [
       "<matplotlib.axes._subplots.AxesSubplot at 0x7f8388765160>"
      ]
     },
     "execution_count": 25,
     "metadata": {},
     "output_type": "execute_result"
    },
    {
     "data": {
      "image/png": "[encoded data removed]",
      "text/plain": [
       "<Figure size 720x1800 with 1 Axes>"
      ]
     },
     "metadata": {},
     "output_type": "display_data"
    }
   ],
   "source": [
    "plt.figure(figsize=(10,25))\n",
    "sns.barplot(y='features',x='importance',data=galactic_importance)"
   ]
  },
  {
   "cell_type": "markdown",
   "metadata": {},
   "source": [
    "## Add class_99"
   ]
  },
  {
   "cell_type": "code",
   "execution_count": null,
   "metadata": {
    "collapsed": true
   },
   "outputs": [],
   "source": [
    "galactic_pred_df['class_99'] = np.mean(galactic_pred_df,axis=1)\n",
    "galactic_pred_df = (np.exp(galactic_pred_df).T / np.sum(np.exp(galactic_pred_df),axis=1)).T\n",
    "\n",
    "extra_pred_df['class_99'] = np.mean(extra_pred_df,axis=1)\n",
    "extra_pred_df = (np.exp(extra_pred_df).T / np.sum(np.exp(extra_pred_df),axis=1)).T"
   ]
  },
  {
   "cell_type": "markdown",
   "metadata": {},
   "source": [
    "## Merge Galactic and Extragalactic"
   ]
  },
  {
   "cell_type": "code",
   "execution_count": null,
   "metadata": {
    "collapsed": true
   },
   "outputs": [],
   "source": [
    "galactic_pred_df['object_id'] = test_galactic.object_id.values\n",
    "extra_pred_df['object_id'] = test_extra.object_id.values\n",
    "\n",
    "pred_df = pd.concat([galactic_pred_df, extra_pred_df],axis=0,sort=True)\n",
    "pred_df.fillna(value=0,inplace=True)\n",
    "\n",
    "pred_df.sort_values(by='object_id',inplace=True)"
   ]
  },
  {
   "cell_type": "markdown",
   "metadata": {},
   "source": [
    "## Count Average Score"
   ]
  },
  {
   "cell_type": "code",
   "execution_count": 93,
   "metadata": {
    "collapsed": true
   },
   "outputs": [],
   "source": [
    "galactic_naive_pred = pd.DataFrame(train_galactic.target.value_counts() / len(train_galactic)).T\n",
    "galactic_naive_pred.rename(columns={i:'class_{0}'.format(i) for i in galactic_naive_pred.columns}, inplace=True)\n",
    "galactic_naive_df = pd.concat([galactic_naive_pred] * len(test_galactic))\n",
    "galactic_naive_df['object_id'] = test_galactic.object_id.values\n",
    "galactic_naive_df.reset_index(drop=True, inplace=True)\n",
    "\n",
    "extra_naive_pred = pd.DataFrame(train_extra.target.value_counts() / len(train_extra)).T\n",
    "extra_naive_pred.rename(columns={i:'class_{0}'.format(i) for i in extra_naive_pred.columns}, inplace=True)\n",
    "extra_naive_df = pd.concat([extra_naive_pred] * len(test_extra))\n",
    "extra_naive_df['object_id'] = test_extra.object_id.values\n",
    "extra_naive_df.reset_index(drop=True, inplace=True)"
   ]
  },
  {
   "cell_type": "code",
   "execution_count": 94,
   "metadata": {
    "collapsed": true
   },
   "outputs": [],
   "source": [
    "naive_pred = pd.concat([galactic_naive_df, extra_naive_df], axis=0, sort=True)\n",
    "naive_pred.fillna(value=0, inplace=True)\n",
    "naive_pred['class_99'] = 0.0"
   ]
  },
  {
   "cell_type": "markdown",
   "metadata": {},
   "source": [
    "### Merge Average Score"
   ]
  },
  {
   "cell_type": "code",
   "execution_count": 100,
   "metadata": {
    "collapsed": true
   },
   "outputs": [],
   "source": [
    "naive_pred.sort_values(by='object_id',inplace=True)\n",
    "pred_df.sort_values(by='object_id',inplace=True)\n",
    "aved_pred = (pred_df.drop('object_id', axis=1) + naive_pred.drop('object_id', axis=1) ) / 2\n",
    "aved_pred['object_id'] = pred_df.object_id"
   ]
  },
  {
   "cell_type": "markdown",
   "metadata": {},
   "source": [
    "## Count Even Score"
   ]
  },
  {
   "cell_type": "code",
   "execution_count": 36,
   "metadata": {
    "collapsed": true
   },
   "outputs": [],
   "source": [
    "even_galactic = pd.DataFrame([[1/(len(galactic_targets) + 1)] * (len(galactic_targets) + 1)] * len(test_galactic))\n",
    "even_galactic.rename(columns={i:'class_{0}'.format(galactic_targets[i]) for i in range(len(galactic_targets))}, inplace=True)\n",
    "even_galactic.rename(columns={len(galactic_targets):'class_99'}, inplace=True)\n",
    "even_galactic['object_id'] = test_galactic.object_id.values\n",
    "\n",
    "even_extra = pd.DataFrame([[1/(len(extra_targets) + 1)] * (len(extra_targets) + 1)] * len(test_extra))\n",
    "even_extra.rename(columns={i:'class_{0}'.format(extra_targets[i]) for i in range(len(extra_targets))}, inplace=True)\n",
    "even_extra.rename(columns={len(extra_targets):'class_99'}, inplace=True)\n",
    "even_extra['object_id'] = test_extra.object_id.values\n",
    "\n",
    "even_pred = pd.concat([even_galactic, even_extra], axis=0, sort=True)\n",
    "even_pred.fillna(value=0, inplace=True)"
   ]
  },
  {
   "cell_type": "markdown",
   "metadata": {},
   "source": [
    "### Merge Even Score"
   ]
  },
  {
   "cell_type": "code",
   "execution_count": 38,
   "metadata": {
    "collapsed": true
   },
   "outputs": [],
   "source": [
    "even_pred.sort_values(by='object_id',inplace=True)\n",
    "pred_df.sort_values(by='object_id',inplace=True)\n",
    "aved_pred = (pred_df.drop('object_id', axis=1) + even_pred.drop('object_id', axis=1) ) / 2\n",
    "aved_pred['object_id'] = pred_df.object_id"
   ]
  },
  {
   "cell_type": "markdown",
   "metadata": {},
   "source": [
    "## Weighted Naive Score"
   ]
  },
  {
   "cell_type": "code",
   "execution_count": 68,
   "metadata": {
    "collapsed": true,
    "scrolled": true
   },
   "outputs": [],
   "source": [
    "from sklearn.preprocessing import normalize\n",
    "\n",
    "weighted_galactic = pd.DataFrame([[1] * (len(galactic_targets) + 1)] * len(test_galactic))\n",
    "weighted_galactic.columns = ['class_{0}'.format(class_id) for class_id in np.concatenate((galactic_targets,[99]))]\n",
    "weighted_galactic.loc[:,:] = normalize(weighted_galactic, norm='l1')\n",
    "weighted_galactic['object_id'] = test_galactic.object_id.values\n",
    "\n",
    "weighted_extra = pd.DataFrame([[1] * (len(extra_targets) + 1)] * len(test_extra))\n",
    "weighted_extra.columns = ['class_{0}'.format(class_id) for class_id in np.concatenate((extra_targets,[99]))]\n",
    "weighted_extra.loc[:,['class_15','class_64']] = weighted_extra.loc[:,['class_15','class_64']] *2\n",
    "weighted_extra.loc[:,:] = normalize(weighted_extra, norm='l1')\n",
    "weighted_extra['object_id'] = test_extra.object_id.values\n",
    "\n",
    "weighted_pred = pd.concat([weighted_galactic, weighted_extra], axis=0, sort=True)\n",
    "weighted_pred.fillna(value=0, inplace=True)"
   ]
  },
  {
   "cell_type": "markdown",
   "metadata": {},
   "source": [
    "### Merge Weighted Naive Score"
   ]
  },
  {
   "cell_type": "code",
   "execution_count": 69,
   "metadata": {
    "collapsed": true
   },
   "outputs": [],
   "source": [
    "weighted_pred.sort_values(by='object_id',inplace=True)\n",
    "pred_df.sort_values(by='object_id',inplace=True)\n",
    "aved_pred = (pred_df.drop('object_id', axis=1) + weighted_pred.drop('object_id', axis=1) ) / 2\n",
    "aved_pred['object_id'] = pred_df.object_id"
   ]
  },
  {
   "cell_type": "code",
   "execution_count": 70,
   "metadata": {
    "collapsed": true
   },
   "outputs": [],
   "source": [
    "aved_pred.to_csv(os.path.join(base_dir, 'result/weighted_aved_lgb.csv'),float_format='%.8f', index=False)"
   ]
  },
  {
   "cell_type": "code",
   "execution_count": null,
   "metadata": {
    "collapsed": true
   },
   "outputs": [],
   "source": [
    "pred_df.to_csv(os.path.join(base_dir, 'result/agged_lgb.csv'),float_format='%.8f', index=False)"
   ]
  },
  {
   "cell_type": "code",
   "execution_count": null,
   "metadata": {
    "collapsed": true
   },
   "outputs": [],
   "source": []
  }
 ],
 "metadata": {
  "kernelspec": {
   "display_name": "Python [conda env:kaggle]",
   "language": "python",
   "name": "conda-env-kaggle-py"
  },
  "language_info": {
   "codemirror_mode": {
    "name": "ipython",
    "version": 3
   },
   "file_extension": ".py",
   "mimetype": "text/x-python",
   "name": "python",
   "nbconvert_exporter": "python",
   "pygments_lexer": "ipython3",
   "version": "3.5.5"
  }
 },
 "nbformat": 4,
 "nbformat_minor": 2
}
