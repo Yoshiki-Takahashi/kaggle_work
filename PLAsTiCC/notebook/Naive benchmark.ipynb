{
 "cells": [
  {
   "cell_type": "code",
   "execution_count": 1,
   "metadata": {
    "collapsed": true
   },
   "outputs": [],
   "source": [
    "import numpy as np\n",
    "import pandas as pd\n",
    "import matplotlib.pyplot as plt\n",
    "import os"
   ]
  },
  {
   "cell_type": "code",
   "execution_count": 2,
   "metadata": {
    "collapsed": true
   },
   "outputs": [],
   "source": [
    "%matplotlib inline"
   ]
  },
  {
   "cell_type": "code",
   "execution_count": 3,
   "metadata": {
    "collapsed": true
   },
   "outputs": [],
   "source": [
    "base_dir = '/home/ytakahashi/project/kaggle/PLAsTiCC'\n",
    "meta_data = pd.read_csv(os.path.join(base_dir, 'data/training_set_metadata.csv'))\n",
    "test_meta_data = pd.read_csv(os.path.join(base_dir, 'data/test_set_metadata.csv'))"
   ]
  },
  {
   "cell_type": "code",
   "execution_count": 4,
   "metadata": {
    "collapsed": true
   },
   "outputs": [],
   "source": [
    "targets = np.hstack([np.unique(meta_data['target']), [99]])\n",
    "target_map = {j:i for i, j in enumerate(targets)}\n",
    "target_ids = [target_map[i] for i in meta_data['target']]\n",
    "meta_data['target_id'] = target_ids"
   ]
  },
  {
   "cell_type": "code",
   "execution_count": 5,
   "metadata": {},
   "outputs": [
    {
     "data": {
      "image/png": "[encoded data removed]",
      "text/plain": [
       "<Figure size 720x576 with 1 Axes>"
      ]
     },
     "metadata": {},
     "output_type": "display_data"
    }
   ],
   "source": [
    "galactic_cut = meta_data['hostgal_specz'] == 0\n",
    "plt.figure(figsize=(10, 8))\n",
    "plt.hist(meta_data[galactic_cut]['target_id'], 15, (0, 15), alpha=0.5, label='Galactic')\n",
    "plt.hist(meta_data[~galactic_cut]['target_id'], 15, (0, 15), alpha=0.5, label='Extragalactic')\n",
    "plt.xticks(np.arange(15)+0.5, targets)\n",
    "plt.gca().set_yscale(\"log\")\n",
    "plt.xlabel('Class')\n",
    "plt.ylabel('Counts')\n",
    "plt.xlim(0, 15)\n",
    "plt.legend();"
   ]
  },
  {
   "cell_type": "code",
   "execution_count": 6,
   "metadata": {
    "collapsed": true
   },
   "outputs": [],
   "source": [
    "# Build the flat probability arrays for both the galactic and extragalactic groups\n",
    "galactic_cut = meta_data['hostgal_specz'] == 0\n",
    "galactic_data = meta_data[galactic_cut]\n",
    "extragalactic_data = meta_data[~galactic_cut]\n",
    "\n",
    "galactic_classes = np.unique(galactic_data['target_id'])\n",
    "extragalactic_classes = np.unique(extragalactic_data['target_id'])\n",
    "\n",
    "# Add class 99 (id=14) to both groups.\n",
    "galactic_classes = np.append(galactic_classes, 14)\n",
    "extragalactic_classes = np.append(extragalactic_classes, 14)\n",
    "\n",
    "galactic_probabilities = np.zeros(15)\n",
    "galactic_probabilities[galactic_classes] = 1. / len(galactic_classes)\n",
    "extragalactic_probabilities = np.zeros(15)\n",
    "extragalactic_probabilities[extragalactic_classes] = 1. / len(extragalactic_classes)"
   ]
  },
  {
   "cell_type": "code",
   "execution_count": 9,
   "metadata": {},
   "outputs": [],
   "source": [
    "# Apply this prediction to a table\n",
    "submit_df_galactic = test_meta_data[test_meta_data['hostgal_photoz']==0].loc[:,['object_id']]\n",
    "for i,target_int in enumerate(targets):\n",
    "    submit_df_galactic['class_%d' % target_int] = galactic_probabilities[i]\n",
    "    \n",
    "submit_df_extragalactic = test_meta_data[np.logical_not(test_meta_data['hostgal_photoz']==0)].loc[:,['object_id']]\n",
    "for i,target_int in enumerate(targets):\n",
    "    submit_df_extragalactic['class_%d' % target_int] = extragalactic_probabilities[i]\n",
    "    \n",
    "submit_df = pd.concat([submit_df_galactic,submit_df_extragalactic])"
   ]
  },
  {
   "cell_type": "code",
   "execution_count": 12,
   "metadata": {
    "collapsed": true
   },
   "outputs": [],
   "source": [
    "#submit_df.to_csv(os.path.join(base_dir, 'result/naive_kernel.csv'), index=False)"
   ]
  },
  {
   "cell_type": "markdown",
   "metadata": {},
   "source": [
    "## Verificate naive method archives 2.156 loss"
   ]
  },
  {
   "cell_type": "code",
   "execution_count": 30,
   "metadata": {
    "scrolled": true
   },
   "outputs": [],
   "source": [
    "train_pred_galactic = meta_data[meta_data['hostgal_photoz']==0].loc[:,['object_id']]\n",
    "for i, target_int in enumerate(targets):\n",
    "    train_pred_galactic['class_%d' % target_int] = galactic_probabilities[i]\n",
    "    \n",
    "train_pred_extragalactic = meta_data[np.logical_not(meta_data['hostgal_photoz']==0)].loc[:,['object_id']]\n",
    "for i, target_int in enumerate(targets):\n",
    "    train_pred_extragalactic['class_%d' % target_int] = extragalactic_probabilities[i]\n",
    "    \n",
    "train_pred = pd.concat([train_pred_galactic, train_pred_extragalactic]).sort_index()"
   ]
  },
  {
   "cell_type": "code",
   "execution_count": 31,
   "metadata": {
    "collapsed": true
   },
   "outputs": [],
   "source": [
    "from sklearn import preprocessing\n",
    "le = preprocessing.LabelEncoder()\n",
    "onehot = preprocessing.OneHotEncoder()\n",
    "lb = preprocessing.LabelBinarizer() # this is union of le and onehot\n",
    "true_df = pd.DataFrame(lb.fit_transform(meta_data.target))"
   ]
  },
  {
   "cell_type": "code",
   "execution_count": 32,
   "metadata": {
    "scrolled": true
   },
   "outputs": [],
   "source": [
    "true_df['class_99'] = 0\n",
    "true_df.columns = train_pred.columns[1:]"
   ]
  },
  {
   "cell_type": "code",
   "execution_count": 33,
   "metadata": {},
   "outputs": [
    {
     "data": {
      "text/plain": [
       "2.1512510492560386"
      ]
     },
     "execution_count": 33,
     "metadata": {},
     "output_type": "execute_result"
    }
   ],
   "source": [
    "from sklearn import metrics\n",
    "metrics.log_loss(true_df, train_pred.iloc[:,1:])"
   ]
  },
  {
   "cell_type": "code",
   "execution_count": null,
   "metadata": {
    "collapsed": true
   },
   "outputs": [],
   "source": []
  }
 ],
 "metadata": {
  "kernelspec": {
   "display_name": "Python [conda env:kaggle]",
   "language": "python",
   "name": "conda-env-kaggle-py"
  },
  "language_info": {
   "codemirror_mode": {
    "name": "ipython",
    "version": 3
   },
   "file_extension": ".py",
   "mimetype": "text/x-python",
   "name": "python",
   "nbconvert_exporter": "python",
   "pygments_lexer": "ipython3",
   "version": "3.5.5"
  }
 },
 "nbformat": 4,
 "nbformat_minor": 2
}
